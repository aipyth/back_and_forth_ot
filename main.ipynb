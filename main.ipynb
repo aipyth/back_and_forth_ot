{
 "cells": [
  {
   "cell_type": "code",
   "execution_count": 80,
   "metadata": {},
   "outputs": [],
   "source": [
    "import numpy as np\n",
    "from matplotlib import pyplot as plt\n",
    "import scipy\n",
    "\n",
    "from typing import Union"
   ]
  },
  {
   "cell_type": "code",
   "execution_count": 2,
   "metadata": {},
   "outputs": [],
   "source": [
    "def generate_gaussian_distribution(\n",
    "        num_points, mean, std, range_min, range_max\n",
    "):\n",
    "    grid = np.linspace(range_min, range_max, num_points)\n",
    "    pdf_values = 1/(std * np.sqrt(2 * np.pi)) * np.exp(\n",
    "        -1/2 * np.power((grid - mean)/std, 2))\n",
    "    pdf_values /= pdf_values.sum()\n",
    "    return grid, pdf_values"
   ]
  },
  {
   "cell_type": "code",
   "execution_count": 9,
   "metadata": {},
   "outputs": [
    {
     "data": {
      "text/plain": [
       "<matplotlib.collections.PathCollection at 0x7f9ec924f580>"
      ]
     },
     "execution_count": 9,
     "metadata": {},
     "output_type": "execute_result"
    },
    {
     "data": {
      "image/png": "[encoded data removed]",
      "text/plain": [
       "<Figure size 1000x500 with 2 Axes>"
      ]
     },
     "metadata": {},
     "output_type": "display_data"
    }
   ],
   "source": [
    "n = 100 + 1   # Number of points\n",
    "std = 0.08\n",
    "range_min = 0\n",
    "range_max = 1\n",
    "\n",
    "grid1, pdf1 = generate_gaussian_distribution(n, 0.2, std, range_min, range_max)\n",
    "grid2, pdf2 = generate_gaussian_distribution(n, 0.6, std, range_min, range_max)\n",
    "\n",
    "fig, axs = plt.subplots(1, 2, figsize=(10,5))\n",
    "axs[0].scatter(grid1, pdf1)\n",
    "axs[1].scatter(grid2, pdf2)\n",
    "# fig.show()"
   ]
  },
  {
   "cell_type": "markdown",
   "metadata": {},
   "source": [
    "# The Back-and-Forth Algorithm\n",
    "\n",
    "Let our $\\Omega \\subset \\R^d$ be a convex and compact region. Consider a cost function of a form\n",
    "$$ c(x, y) = h(y-x) $$\n",
    "where function $h : \\R^d \\to \\R$ is strictly convex and even function.\n",
    "\n",
    "The optimal transport problem is being stated in it's dual form:\n",
    "$$ C(\\mu, \\nu) = \\sup_{\\varphi : \\Omega \\to \\R} \\int_{\\Omega} \\varphi(y) \\nu(y) dy + \\int_{\\Omega} (\\varphi)^{c} (x) \\mu(x) dx $$\n",
    "for two measures $\\mu$ and $\\nu$ and continuous functions $\\varphi: \\Omega \\to \\R$.\n",
    "\n",
    "The operation $(\\cdot)^{c}$ is called __c-transform__ and is being defined as:\n",
    "$$ \\varphi^{c}(x) = \\inf_{y \\in \\Omega} \\left\\{ c(x,y) - \\varphi(y) \\right\\} $$\n",
    "\n",
    "Also we define two functionals $J: \\mathcal{H} \\to \\R$ and $I: \\mathcal{H} \\to \\R$\n",
    "$$ J(\\varphi) = \\int_{\\Omega} \\varphi d \\nu + \\int_{\\Omega} \\varphi^{c} d \\mu $$\n",
    "$$ I(\\psi) = \\int_{\\Omega} \\psi^{c} d \\nu + \\int_{\\Omega} \\psi d \\mu $$\n",
    "\n",
    "And our operating Hilbert space will be\n",
    "$$ \\dot{H}^1 = \\left\\{ \\varphi : \\Omega \\to \\R : \\int_{\\Omega} \\varphi dx = 0 \\text{ and } \\nabla \\varphi \\in L^2 (\\Omega) \\right\\} $$\n",
    "\n",
    "We get the following update scheme\n",
    "$$\n",
    "\\begin{align}\n",
    "\\varphi_{n+1/2} &= \\varphi_{n} + \\sigma \\nabla_{\\dot{H}^1} J(\\varphi_{n}) \\\\\n",
    "\\psi_{n+1/2}    &= (\\varphi_{n+1/2})^{c} \\\\\n",
    "\\psi_{n+1}    &= \\psi_{n} + \\sigma \\nabla_{\\dot{H}^1} I(\\psi_{n}) \\\\\n",
    "\\varphi_{n+1}   &= (\\psi_{n+1})^{c}\n",
    "\\end{align}\n",
    "$$\n",
    "\n",
    "where the functionals $J(\\varphi_n)$ and $I(\\psi_n)$ are defined as:\n",
    "$$ J(\\varphi) = \\int_{\\Omega} \\varphi d \\nu + \\int_{\\Omega} (\\varphi)^{c} d \\mu $$\n",
    "$$ I(\\psi) = \\int_{\\Omega} (\\psi)^{c} d \\nu + \\int_{\\Omega} \\psi d \\mu $$\n",
    "over the space of continuous functions $\\varphi : \\Omega \\to \\R$ and $\\psi : \\Omega \\to \\R$."
   ]
  },
  {
   "cell_type": "markdown",
   "metadata": {},
   "source": [
    "How do we compute $\\nabla_{\\dot{H}^1} J(\\varphi_n)$ or $\\nabla_{\\dot{H}^1} I(\\psi_n)$?\n",
    "\n",
    "By Lemma 3, we get that if $\\varphi$ is c-concave, the first variation of $J$ can be expressed as\n",
    "$$ \\delta J_{\\varphi} = \\nu - T_{\\varphi \\#} \\mu $$\n",
    "and if $\\psi$ is c-concave, the first variation of $I$ can be expressed as\n",
    "$$ \\delta I_{\\psi} = \\mu - T_{\\psi \\#} \\nu $$\n",
    "\n",
    "**some math .....**\n",
    "\n",
    "At the end, we get\n",
    "$$ \\nabla_{\\dot{H}^1} J(\\varphi) = (-\\Delta)^{-1} (\\nu - T_{\\varphi \\#} \\mu) $$\n",
    "$$ \\nabla_{\\dot{H}^1} I(\\psi) = (-\\Delta)^{-1} (\\mu - T_{\\psi \\#} \\nu) $$\n",
    "\n",
    "Here $(\\Delta)^{-1}$ is the inverse Laplace operator which we get while solving this PDE:\n",
    "$$\n",
    "\\begin{cases}\n",
    "    - \\Delta \\varphi &= f \\\\\n",
    "    \\nabla \\varphi &= 0 \\quad \\text{ on } \\partial \\Omega \\quad \\text{ (Neumann Boundary Condition) }\n",
    "\\end{cases}\n",
    "$$\n",
    "\n",
    "So here the function $f$ is equal to either $\\nu - T_{\\varphi \\#} \\mu$ or $\\mu - T_{\\psi \\#} \\nu$.\n",
    "\n",
    "\n",
    "\n",
    "<!-- $$\n",
    "    \\rho_n = T_{\\varphi_n \\#} \\mu  \\qquad  \\rho_{n+1/2} = T_{\\varphi_{n+1/2} \\#} \\mu\n",
    "$$ -->"
   ]
  },
  {
   "cell_type": "markdown",
   "metadata": {},
   "source": [
    "### C-Transform and Pushforward\n",
    "\n",
    "Let's remind ourselfes what c-transform of a function $\\varphi$ is:\n",
    "\n",
    "$$ \\varphi^{c}(x) = \\inf_{y \\in \\Omega} \\left\\{ c(x,y) - \\varphi(y) \\right\\} $$"
   ]
  },
  {
   "cell_type": "code",
   "execution_count": 129,
   "metadata": {},
   "outputs": [],
   "source": [
    "def _direct_c_transform(phi: np.ndarray, cost: np.ndarray) -> np.ndarray:\n",
    "    # Direct computation with numpy\n",
    "    min_axis = int(phi.shape[0] == 1)\n",
    "    transform = (cost - phi).min(axis=min_axis)\n",
    "    return np.expand_dims(transform, axis=min_axis)\n",
    "\n",
    "def ctransform(phi: np.ndarray, cost: Union[np.ndarray, str]) -> np.ndarray:\n",
    "    if isinstance(cost, np.ndarray):\n",
    "        return _direct_c_transform(phi, cost)\n",
    "    elif isinstance(cost, str):\n",
    "        raise NotImplementedError('optimized ctransform has not been implemented')\n",
    "    else:\n",
    "        raise TypeError('cost must be either a numpy array or a string')"
   ]
  },
  {
   "cell_type": "code",
   "execution_count": 130,
   "metadata": {},
   "outputs": [
    {
     "name": "stdout",
     "output_type": "stream",
     "text": [
      "n=3 m=3\n",
      "[[0.  0.  0. ]\n",
      " [0.5 0.5 0.5]\n",
      " [1.  1.  1. ]]\n",
      "[[0.  0.5 1. ]\n",
      " [0.  0.5 1. ]\n",
      " [0.  0.5 1. ]]\n",
      "\n",
      "phi.shape=(3, 1)\n",
      "[[0.  ]\n",
      " [0.25]\n",
      " [1.  ]]\n",
      "\n",
      "cost.shape=(3, 3)\n",
      "[[0.    0.125 0.5  ]\n",
      " [0.125 0.    0.125]\n",
      " [0.5   0.125 0.   ]]\n",
      "\n",
      "transform.shape=(1, 3)\n"
     ]
    },
    {
     "data": {
      "text/plain": [
       "array([[-0.5  , -0.875, -1.   ]])"
      ]
     },
     "execution_count": 130,
     "metadata": {},
     "output_type": "execute_result"
    }
   ],
   "source": [
    "n, m = 3, 3\n",
    "print(f\"{n=} {m=}\")\n",
    "x, y = np.meshgrid(\n",
    "    np.linspace(0, 1, n),\n",
    "    np.linspace(0, 1, m),\n",
    "    indexing='ij'\n",
    ")\n",
    "print(x)\n",
    "print(y)\n",
    "print()\n",
    "\n",
    "# consider phi : R^2 -> R\n",
    "# phi = np.zeros((1, m))\n",
    "phi = np.power(np.linspace(0, 1, n), 2).reshape((n, 1))\n",
    "# phi = x ** 2\n",
    "print(f\"{phi.shape=}\")\n",
    "print(phi)\n",
    "print()\n",
    "\n",
    "cost = np.power(x - y, 2) / 2\n",
    "print(f\"{cost.shape=}\")\n",
    "print(cost)\n",
    "print()\n",
    "\n",
    "transform = ctransform(phi, cost=cost)\n",
    "print(f\"{transform.shape=}\")\n",
    "transform"
   ]
  },
  {
   "cell_type": "code",
   "execution_count": 131,
   "metadata": {},
   "outputs": [
    {
     "name": "stdout",
     "output_type": "stream",
     "text": [
      "psi.shape=(1, 3)\n",
      "[[0.   0.25 1.  ]]\n",
      "\n",
      "transform.shape=(3, 1)\n"
     ]
    },
    {
     "data": {
      "text/plain": [
       "array([[-0.5  ],\n",
       "       [-0.875],\n",
       "       [-1.   ]])"
      ]
     },
     "execution_count": 131,
     "metadata": {},
     "output_type": "execute_result"
    }
   ],
   "source": [
    "psi = (np.linspace(0, 1, m) ** 2).reshape((1, m))\n",
    "print(f\"{psi.shape=}\")\n",
    "print(psi)\n",
    "print()\n",
    "\n",
    "transform = ctransform(psi, cost=cost)\n",
    "print(f\"{transform.shape=}\")\n",
    "transform"
   ]
  },
  {
   "cell_type": "markdown",
   "metadata": {},
   "source": [
    "The pushforward is defined as $x$ minus the inverse gradient of $h$ applied to gradient of the potential:\n",
    "$$ T_{\\varphi}(x) = x - (\\nabla h)^{-1} ( \\nabla \\varphi(x) ) $$\n",
    "$$ T_{\\psi}(y) = y - (\\nabla h)^{-1} ( \\nabla \\psi(y) ) $$"
   ]
  },
  {
   "cell_type": "markdown",
   "metadata": {},
   "source": [
    "Let's test this on a discretized space which is a subspace of $\\Omega = [0,1]$\n",
    "$$\n",
    "X = \\{ x_1, x_2, \\dots, x_n \\} \\subset \\Omega\n",
    "\\qquad\n",
    "Y = \\{ y_1, y_2, \\dots, y_m \\} \\subset \\Omega\n",
    "$$\n",
    "\n",
    "We will use the meshgrids in the code (keep as close to the implementation as we can):\n",
    "$$ \\mathcal{X} = \\left[ x_{ij} = x_i \\in X \\;\\; \\forall j = \\overline{1,m} \\;\\; \\forall i \\in \\overline{1, n} \\right]_{n \\times m} $$\n",
    "$$ \\mathcal{Y} = \\left[ y_{ij} = y_j \\in Y \\;\\; \\forall i = \\overline{1,n} \\;\\; \\forall i \\in \\overline{1, m} \\right]_{m \\times n} $$\n",
    "\n",
    "The gradient of $\\varphi(\\mathcal{X})$ we compute as\n",
    "$$ \\nabla \\varphi (\\mathcal{X}) = \\left[ \\nabla \\varphi (x_{ij}) \\right]_{n \\times m} $$\n",
    "\n",
    "Note that this gradient is repeated by columns, meaning that $\\nabla \\varphi(x_{ij}) = \\nabla \\varphi(x_i)$.\n",
    "\n",
    "Basically, we should find such $\\gamma = \\left[ \\gamma_{ij} \\in \\Omega \\right]$ that\n",
    "$$ (\\nabla h)(\\gamma) = \\nabla \\varphi (\\mathcal{X}) $$\n",
    "and this matrix $\\gamma$ is found as\n",
    "$$ \\gamma = (\\nabla h)^{-1}(\\nabla \\varphi (\\mathcal{X})) $$\n",
    "\n",
    "The problem we need to solve to find $\\gamma$ is follow:\n",
    "\n",
    "Find $\\gamma = \\left[ \\gamma_{ij} \\in \\Omega \\right]$ such that\n",
    "$$ (\\nabla h) (\\gamma) = B $$\n",
    "where $B$ is the computed gradient $\\nabla \\varphi (\\mathcal{X})$.\n",
    "<!-- $$ (\\nabla h)(\\gamma) = \\nabla \\varphi (\\mathcal{X}) $$ -->"
   ]
  },
  {
   "cell_type": "markdown",
   "metadata": {},
   "source": [
    "The ways to solve this equation:\n",
    "1. Treat the equation like a PDE and use **Numerical solvers for PDEs**: finite difference methods, finite element methods, spectral methods.\n",
    "2. **Matrix decomposition and Inverse methods**, which requires the matrix $(\\nabla h)$ to be invertible.\n",
    "3. **Iterative methods**: set the function to minimize $(\\nabla h) - B$ and perform fi **gradient descent**.\n",
    "4. **Regularization techniques**"
   ]
  },
  {
   "cell_type": "markdown",
   "metadata": {},
   "source": [
    "For quadratic cost the pushforward operation is simplified to:\n",
    "$$ T_{\\varphi} (x) = x - \\nabla \\varphi (x) $$\n",
    "$$ T_{\\psi} (y) = y - \\nabla \\psi (y) $$"
   ]
  },
  {
   "cell_type": "code",
   "execution_count": 181,
   "metadata": {},
   "outputs": [],
   "source": [
    "def _pushforward_quadratic_cost(phi: np.ndarray, X: np.ndarray, Y: np.ndarray) -> np.ndarray:\n",
    "    # Determine the relevant domain and gradient axis based on the dimensionality of phi\n",
    "    use_y = int(phi.shape[0] == 1)  # psi potential is of shape (1, m)\n",
    "    domain = Y if use_y else X\n",
    "    return domain - np.gradient(phi, axis=use_y)\n",
    "\n",
    "def pushforward(phi: np.ndarray, cost: Union[np.ndarray, str], X: np.ndarray, Y: np.ndarray) -> np.ndarray:\n",
    "    \"\"\"Calculates the pushforward of a function phi given a cost type, using domains X and Y.\"\"\"\n",
    "    \n",
    "    # Handling string type cost function\n",
    "    if isinstance(cost, str):\n",
    "        if cost == 'quadratic':\n",
    "            return _pushforward_quadratic_cost(phi, X, Y)\n",
    "        else:\n",
    "            raise NotImplementedError(f\"Not implemented for cost type '{cost}'\")\n",
    "    \n",
    "    # Handling numpy array type cost function (currently not implemented)\n",
    "    elif isinstance(cost, np.ndarray):\n",
    "        raise NotImplementedError(\"Matrix cost types are not implemented\")\n",
    "    \n",
    "    # Handling invalid cost type\n",
    "    else:\n",
    "        raise TypeError(\"Cost must be either a string or a numpy array\")"
   ]
  },
  {
   "cell_type": "code",
   "execution_count": 186,
   "metadata": {},
   "outputs": [
    {
     "name": "stdout",
     "output_type": "stream",
     "text": [
      "n=3 m=4\n",
      "[[0.  0.  0.  0. ]\n",
      " [0.5 0.5 0.5 0.5]\n",
      " [1.  1.  1.  1. ]]\n",
      "[[0.         0.33333333 0.66666667 1.        ]\n",
      " [0.         0.33333333 0.66666667 1.        ]\n",
      " [0.         0.33333333 0.66666667 1.        ]]\n",
      "\n",
      "phi.shape=(3, 1)\n",
      "[[0.2]\n",
      " [0.7]\n",
      " [1.2]]\n",
      "\n",
      "cost.shape=(3, 4)\n",
      "[[0.         0.05555556 0.22222222 0.5       ]\n",
      " [0.125      0.01388889 0.01388889 0.125     ]\n",
      " [0.5        0.22222222 0.05555556 0.        ]]\n",
      "\n"
     ]
    },
    {
     "data": {
      "text/plain": [
       "array([[-0.5, -0.5, -0.5, -0.5],\n",
       "       [ 0. ,  0. ,  0. ,  0. ],\n",
       "       [ 0.5,  0.5,  0.5,  0.5]])"
      ]
     },
     "execution_count": 186,
     "metadata": {},
     "output_type": "execute_result"
    }
   ],
   "source": [
    "n, m = 3, 4\n",
    "print(f\"{n=} {m=}\")\n",
    "x = np.linspace(0, 1, n)\n",
    "y = np.linspace(0, 1, m)\n",
    "X, Y = np.meshgrid(x, y, indexing='ij')\n",
    "print(X)\n",
    "print(Y)\n",
    "print()\n",
    "\n",
    "# consider phi : R^2 -> R\n",
    "# phi = np.zeros((1, m))\n",
    "phi = (x + 0.2).reshape((n, 1))\n",
    "# phi = np.power(x, 3).reshape((n, 1))\n",
    "print(f\"{phi.shape=}\")\n",
    "print(phi)\n",
    "print()\n",
    "\n",
    "cost = np.power(X - Y, 2) / 2\n",
    "print(f\"{cost.shape=}\")\n",
    "print(cost)\n",
    "print()\n",
    "\n",
    "pf = pushforward(phi, 'quadratic', X, Y)\n",
    "pf"
   ]
  },
  {
   "cell_type": "markdown",
   "metadata": {},
   "source": [
    "### Gradient and PDE"
   ]
  },
  {
   "cell_type": "code",
   "execution_count": null,
   "metadata": {},
   "outputs": [],
   "source": [
    "def gradient(phi, nu, t_mu):\n",
    "    f = nu - t_mu\n",
    "\n",
    "\n",
    "def solve_pde(f, phi):\n",
    "    # TODO: any faster way to solve pde?\n",
    "    # for now we solve this elliptical pde with cosine transform (FFT)\n",
    "    n, m  = phi.shape\n",
    "    x, y = np.meshgrid(\n",
    "        np.linspace(0, np.pi, m, False),\n",
    "        np.linspace(0, np.pi, m, False)\n",
    "    )\n",
    "    kernel = 2 * n**2 * (1 - np.cos(x)) + 2 * m**2 * (1 - np.cos(y))\n",
    "    kernel[0, 0] = 1  # to avoid deviding by zero??\n",
    "\n",
    "    wsp = scipy.dctn(f, norm='ortho')\n",
    "    wsp[0, 0] = 0\n",
    "    wsp = scipy.idctn(wsp, norm='ortho')\n",
    "\n",
    "    return wsp"
   ]
  },
  {
   "cell_type": "code",
   "execution_count": null,
   "metadata": {},
   "outputs": [],
   "source": [
    "def back_and_forth(x, y, mu, nu, cost, sigma: float = 0.01, iterations: int = 1_000):\n",
    "    phi = np.zeros_like(x)\n",
    "    psi = np.zeros_like(x)\n",
    "\n",
    "    n, m = x.shape\n",
    "\n",
    "    # why do we really need rho here?\n",
    "    rho = np.copy(mu)\n",
    "\n",
    "    for i in range(iterations):\n",
    "        # what is rho1 and rho2 here?\n",
    "        phi += sigma * gradient(phi, rho, nu)"
   ]
  },
  {
   "cell_type": "code",
   "execution_count": 16,
   "metadata": {},
   "outputs": [
    {
     "name": "stdout",
     "output_type": "stream",
     "text": [
      "(100, 100)\n",
      "(100, 100)\n"
     ]
    },
    {
     "data": {
      "text/plain": [
       "Text(0.5, 1.0, 'Distribution $\\\\nu$')"
      ]
     },
     "execution_count": 16,
     "metadata": {},
     "output_type": "execute_result"
    },
    {
     "data": {
      "image/png": "[encoded data removed]",
      "text/plain": [
       "<Figure size 1000x400 with 2 Axes>"
      ]
     },
     "metadata": {},
     "output_type": "display_data"
    }
   ],
   "source": [
    "def generate_2d_gaussian(mean_x, mean_y, sigma_x, sigma_y, range_min, range_max, size=100):\n",
    "    x = np.linspace(range_min, range_max, size)\n",
    "    y = np.linspace(range_min, range_max, size)\n",
    "    x, y = np.meshgrid(x, y)\n",
    "    z = np.exp(-((x - mean_x)**2 / (2 * sigma_x**2) + (y - mean_y)**2 / (2 * sigma_y**2)))\n",
    "    \n",
    "    return x, y, z\n",
    "\n",
    "\n",
    "range_min = 0\n",
    "range_max = 1\n",
    "x1, y1, mu = generate_2d_gaussian(\n",
    "    mean_x = 0.2,\n",
    "    mean_y = 0.4,\n",
    "    sigma_x = 0.1,\n",
    "    sigma_y = 0.1,\n",
    "    range_min=range_min,\n",
    "    range_max=range_max,\n",
    "    size=100,\n",
    "    )\n",
    "x2, y2, nu = generate_2d_gaussian(\n",
    "    mean_x = 0.5,\n",
    "    mean_y = 0.8,\n",
    "    sigma_x = 0.1,\n",
    "    sigma_y = 0.1,\n",
    "    range_min=range_min,\n",
    "    range_max=range_max,\n",
    "    size=100,\n",
    "    )\n",
    "\n",
    "# Plot these distributions\n",
    "fig, axs = plt.subplots(1, 2, figsize=(10,4))\n",
    "axs[0].contourf(x1, y1, mu, cmap='inferno')\n",
    "axs[1].contourf(x2, y2, nu, cmap='inferno')\n",
    "axs[0].set_title('Distribution $\\mu$')\n",
    "axs[1].set_title('Distribution $\\\\nu$')"
   ]
  },
  {
   "cell_type": "code",
   "execution_count": null,
   "metadata": {},
   "outputs": [],
   "source": []
  }
 ],
 "metadata": {
  "kernelspec": {
   "display_name": "python-ot-back-and-forth",
   "language": "python",
   "name": "python-ot-back-and-forth"
  },
  "language_info": {
   "codemirror_mode": {
    "name": "ipython",
    "version": 3
   },
   "file_extension": ".py",
   "mimetype": "text/x-python",
   "name": "python",
   "nbconvert_exporter": "python",
   "pygments_lexer": "ipython3",
   "version": "3.10.13"
  }
 },
 "nbformat": 4,
 "nbformat_minor": 2
}
