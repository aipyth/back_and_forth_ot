{
 "cells": [
  {
   "cell_type": "code",
   "execution_count": 62,
   "metadata": {},
   "outputs": [],
   "source": [
    "import numpy as np\n",
    "from matplotlib import pyplot as plt\n",
    "import scipy\n",
    "from scipy.fft import dctn, idctn, dct, idct\n",
    "\n",
    "from tqdm import tqdm\n",
    "\n",
    "from typing import Union"
   ]
  },
  {
   "cell_type": "markdown",
   "metadata": {},
   "source": [
    "# The Back-and-Forth Algorithm\n",
    "\n",
    "Let our $\\Omega \\subset \\R^d$ be a convex and compact region. Consider a cost function of a form\n",
    "$$ c(x, y) = h(y-x) $$\n",
    "where function $h : \\R^d \\to \\R$ is strictly convex and even function.\n",
    "\n",
    "The optimal transport problem is being stated in it's dual form:\n",
    "$$ C(\\mu, \\nu) = \\sup_{\\varphi : \\Omega \\to \\R} \\int_{\\Omega} \\varphi(y) \\nu(y) dy + \\int_{\\Omega} (\\varphi)^{c} (x) \\mu(x) dx $$\n",
    "for two measures $\\mu$ and $\\nu$ and continuous functions $\\varphi: \\Omega \\to \\R$.\n",
    "\n",
    "The operation $(\\cdot)^{c}$ is called __c-transform__ and is being defined as:\n",
    "$$ \\varphi^{c}(x) = \\inf_{y \\in \\Omega} \\left\\{ c(x,y) - \\varphi(y) \\right\\} $$\n",
    "\n",
    "Also we define two functionals $J: \\mathcal{H} \\to \\R$ and $I: \\mathcal{H} \\to \\R$\n",
    "$$ J(\\varphi) = \\int_{\\Omega} \\varphi d \\nu + \\int_{\\Omega} \\varphi^{c} d \\mu $$\n",
    "$$ I(\\psi) = \\int_{\\Omega} \\psi^{c} d \\nu + \\int_{\\Omega} \\psi d \\mu $$\n",
    "\n",
    "And our operating Hilbert space will be\n",
    "$$ \\dot{H}^1 = \\left\\{ \\varphi : \\Omega \\to \\R : \\int_{\\Omega} \\varphi dx = 0 \\text{ and } \\nabla \\varphi \\in L^2 (\\Omega) \\right\\} $$\n",
    "\n",
    "We get the following update scheme\n",
    "$$\n",
    "\\begin{align}\n",
    "\\varphi_{n+1/2} &= \\varphi_{n} + \\sigma \\nabla_{\\dot{H}^1} J(\\varphi_{n}) \\\\\n",
    "\\psi_{n+1/2}    &= (\\varphi_{n+1/2})^{c} \\\\\n",
    "\\psi_{n+1}    &= \\psi_{n} + \\sigma \\nabla_{\\dot{H}^1} I(\\psi_{n}) \\\\\n",
    "\\varphi_{n+1}   &= (\\psi_{n+1})^{c}\n",
    "\\end{align}\n",
    "$$\n",
    "\n",
    "where the functionals $J(\\varphi_n)$ and $I(\\psi_n)$ are defined as:\n",
    "$$ J(\\varphi) = \\int_{\\Omega} \\varphi d \\nu + \\int_{\\Omega} (\\varphi)^{c} d \\mu $$\n",
    "$$ I(\\psi) = \\int_{\\Omega} (\\psi)^{c} d \\nu + \\int_{\\Omega} \\psi d \\mu $$\n",
    "over the space of continuous functions $\\varphi : \\Omega \\to \\R$ and $\\psi : \\Omega \\to \\R$."
   ]
  },
  {
   "cell_type": "markdown",
   "metadata": {},
   "source": [
    "How do we compute $\\nabla_{\\dot{H}^1} J(\\varphi_n)$ or $\\nabla_{\\dot{H}^1} I(\\psi_n)$?\n",
    "\n",
    "By Lemma 3, we get that if $\\varphi$ is c-concave, the first variation of $J$ can be expressed as\n",
    "$$ \\delta J_{\\varphi} = \\nu - T_{\\varphi \\#} \\mu $$\n",
    "and if $\\psi$ is c-concave, the first variation of $I$ can be expressed as\n",
    "$$ \\delta I_{\\psi} = \\mu - T_{\\psi \\#} \\nu $$\n",
    "\n",
    "**some math .....**\n",
    "\n",
    "At the end, we get\n",
    "$$ \\nabla_{\\dot{H}^1} J(\\varphi) = (-\\Delta)^{-1} (\\nu - T_{\\varphi \\#} \\mu) $$\n",
    "$$ \\nabla_{\\dot{H}^1} I(\\psi) = (-\\Delta)^{-1} (\\mu - T_{\\psi \\#} \\nu) $$\n",
    "\n",
    "Here $(\\Delta)^{-1}$ is the inverse Laplace operator which we get while solving this PDE:\n",
    "$$\n",
    "\\begin{cases}\n",
    "    - \\Delta \\varphi &= f \\\\\n",
    "    \\nabla \\varphi &= 0 \\quad \\text{ on } \\partial \\Omega \\quad \\text{ (Neumann Boundary Condition) }\n",
    "\\end{cases}\n",
    "$$\n",
    "\n",
    "So here the function $f$ is equal to either $\\nu - T_{\\varphi \\#} \\mu$ or $\\mu - T_{\\psi \\#} \\nu$.\n",
    "\n",
    "\n",
    "\n",
    "<!-- $$\n",
    "    \\rho_n = T_{\\varphi_n \\#} \\mu  \\qquad  \\rho_{n+1/2} = T_{\\varphi_{n+1/2} \\#} \\mu\n",
    "$$ -->"
   ]
  },
  {
   "cell_type": "markdown",
   "metadata": {},
   "source": [
    "### C-Transform and Pushforward\n",
    "\n",
    "Let's remind ourselfes what c-transform of a function $\\varphi$ is:\n",
    "\n",
    "$$ \\varphi^{c}(x) = \\inf_{y \\in \\Omega} \\left\\{ c(x,y) - \\varphi(y) \\right\\} $$"
   ]
  },
  {
   "cell_type": "code",
   "execution_count": 35,
   "metadata": {},
   "outputs": [],
   "source": [
    "def _direct_c_transform(phi: np.ndarray, cost: np.ndarray) -> np.ndarray:\n",
    "    \"\"\"\n",
    "    Perform a direct c-transform operation on the given cost matrix adjusted by vector phi.\n",
    "\n",
    "    This function calculates the c-transform of a cost matrix and a vector phi.\n",
    "    It computes the minimum value across rows of the element-wise subtraction between\n",
    "    cost matrix and phi vector, treating phi as a bias.\n",
    "\n",
    "    Parameters:\n",
    "    - phi (np.ndarray): A vector that represents potential values.\n",
    "    - cost (np.ndarray): A cost matrix.\n",
    "\n",
    "    Returns:\n",
    "    - np.ndarray: The transformed vector resulting from the direct c-transform computation.\n",
    "    \"\"\"\n",
    "    # Direct computation with numpy\n",
    "    # min_axis = int(phi.shape[0] == 1)\n",
    "    # We set the direction of summation to 0 for phi case\n",
    "    # for psi case we have to just transpose the cost matrix to be valid\n",
    "    # min_axis = 0\n",
    "    transform = (cost - phi).min(axis=1)\n",
    "    # transform = (cost - phi).min(axis=min_axis)\n",
    "    # transform_2d = np.tile(transform, (cost.shape[min_axis], 1))\n",
    "    # return transform_2d\n",
    "    return transform\n",
    "    # return np.expand_dims(transform, axis=min_axis)\n",
    "\n",
    "def ctransform(phi: np.ndarray, cost: Union[np.ndarray, str]) -> np.ndarray:\n",
    "    \"\"\"\n",
    "    Computes the c-transform of a vector phi with respect to a cost matrix or handles\n",
    "    alternative string-based methods (not implemented).\n",
    "\n",
    "    Parameters:\n",
    "    - phi (np.ndarray): A vector representing potential values.\n",
    "    - cost (Union[np.ndarray, str]): Either a numpy array representing the cost matrix or a\n",
    "      string indicating the method to be used for an optimized c-transform.\n",
    "\n",
    "    Returns:\n",
    "    - np.ndarray: The result of the c-transform calculation.\n",
    "\n",
    "    Raises:\n",
    "    - NotImplementedError: If the cost is specified as a string indicating an unimplemented method.\n",
    "    - TypeError: If the cost parameter is neither a numpy array nor a string.\n",
    "    \"\"\"\n",
    "    if isinstance(cost, np.ndarray):\n",
    "        return _direct_c_transform(phi, cost)\n",
    "    elif isinstance(cost, str):\n",
    "        raise NotImplementedError('optimized ctransform has not been implemented')\n",
    "    else:\n",
    "        raise TypeError('cost must be either a numpy array or a string')"
   ]
  },
  {
   "cell_type": "code",
   "execution_count": 36,
   "metadata": {},
   "outputs": [
    {
     "name": "stdout",
     "output_type": "stream",
     "text": [
      "phi.shape=(3,)\n",
      "[0.   0.25 1.  ]\n",
      "\n",
      "cost.shape=(3, 3)\n",
      "[[0.    0.125 0.5  ]\n",
      " [0.125 0.    0.125]\n",
      " [0.5   0.125 0.   ]]\n",
      "\n",
      "transform.shape=(3,)\n"
     ]
    },
    {
     "data": {
      "text/plain": [
       "array([-0.5  , -0.875, -1.   ])"
      ]
     },
     "execution_count": 36,
     "metadata": {},
     "output_type": "execute_result"
    }
   ],
   "source": [
    "n, m = 3, 3\n",
    "# x = np.linspace(0, 1, n).reshape((n, 1))\n",
    "x = np.linspace(0, 1, n)\n",
    "# y = np.linspace(0, 1, m).reshape((1, m))\n",
    "y = np.linspace(0, 1, m)\n",
    "X, Y = np.meshgrid(x, y, indexing='ij')\n",
    "\n",
    "# phi = np.zeros((1, m))\n",
    "# phi = np.power(np.linspace(0, 1, n), 2).reshape((n, 1))\n",
    "phi = y ** 2\n",
    "print(f\"{phi.shape=}\")\n",
    "print(phi)\n",
    "print()\n",
    "\n",
    "cost = np.power(X - Y, 2) / 2\n",
    "print(f\"{cost.shape=}\")\n",
    "print(cost)\n",
    "print()\n",
    "\n",
    "transform = ctransform(phi, cost=cost)\n",
    "print(f\"{transform.shape=}\")\n",
    "transform"
   ]
  },
  {
   "cell_type": "code",
   "execution_count": 37,
   "metadata": {},
   "outputs": [
    {
     "name": "stdout",
     "output_type": "stream",
     "text": [
      "psi.shape=(3,)\n",
      "[0.   0.25 1.  ]\n",
      "\n",
      "transform.shape=(3,)\n"
     ]
    },
    {
     "data": {
      "text/plain": [
       "array([-0.5  , -0.875, -1.   ])"
      ]
     },
     "execution_count": 37,
     "metadata": {},
     "output_type": "execute_result"
    }
   ],
   "source": [
    "# psi = (np.linspace(0, 1, m) ** 2).reshape((1, m))\n",
    "psi = x ** 2\n",
    "# psi = np.linspace(0, 1, n)\n",
    "print(f\"{psi.shape=}\")\n",
    "print(psi)\n",
    "print()\n",
    "\n",
    "transform = ctransform(psi, cost=cost.T)\n",
    "print(f\"{transform.shape=}\")\n",
    "transform"
   ]
  },
  {
   "cell_type": "markdown",
   "metadata": {},
   "source": [
    "The map $T$ is defined as $x$ minus the inverse gradient \n",
    "of $h$ applied to gradient of the potential for potential $\\varphi$:\n",
    "$$ T_{\\varphi}(x) = x - (\\nabla h)^{-1} ( \\nabla \\varphi^{c}(x) ) $$\n",
    "$$ T_{\\psi}(y) = y - (\\nabla h)^{-1} ( \\nabla \\psi^{c}(y) ) $$\n",
    "\n",
    "Then the pushforward of a measure $\\mu$ for a set $A$:\n",
    "$$ T_{\\#}\\mu (A) = \\mu ( T^{-1} (A) ) $$"
   ]
  },
  {
   "cell_type": "markdown",
   "metadata": {},
   "source": [
    "Let's test this on a discretized space which is a subspace of $\\Omega = [0,1]$\n",
    "$$\n",
    "X = \\{ x_1, x_2, \\dots, x_n \\} \\subset \\Omega\n",
    "\\qquad\n",
    "Y = \\{ y_1, y_2, \\dots, y_m \\} \\subset \\Omega\n",
    "$$\n",
    "\n",
    "We will use the meshgrids in the code (keep as close to the implementation as we can):\n",
    "$$ \\mathcal{X} = \\left[ x_{ij} = x_i \\in X \\;\\; \\forall j = \\overline{1,m} \\;\\; \\forall i \\in \\overline{1, n} \\right]_{n \\times m} $$\n",
    "$$ \\mathcal{Y} = \\left[ y_{ij} = y_j \\in Y \\;\\; \\forall i = \\overline{1,n} \\;\\; \\forall i \\in \\overline{1, m} \\right]_{m \\times n} $$\n",
    "\n",
    "The gradient of $\\varphi^{c}(\\mathcal{X})$ we compute as\n",
    "$$ \\nabla \\varphi^{c} (\\mathcal{X}) = \\left[ \\nabla \\varphi^{c} (x_{ij}) \\right]_{n \\times m} $$\n",
    "\n",
    "Note that this gradient is repeated by columns, meaning that $\\nabla \\varphi^{c}(x_{ij}) = \\nabla \\varphi^{c}(x_i)$.\n",
    "\n",
    "Basically, we should find such $\\gamma = \\left[ \\gamma_{ij} \\in \\Omega \\right]$ that\n",
    "$$ (\\nabla h)(\\gamma) = \\nabla \\varphi^{c} (\\mathcal{X}) $$\n",
    "and this matrix $\\gamma$ is found as\n",
    "$$ \\gamma = (\\nabla h)^{-1}(\\nabla \\varphi^{c} (\\mathcal{X})) $$\n",
    "\n",
    "The problem we need to solve to find $\\gamma$ is follow:\n",
    "\n",
    "Find $\\gamma = \\left[ \\gamma_{ij} \\in \\Omega \\right]$ such that\n",
    "$$ (\\nabla h) (\\gamma) = B $$\n",
    "where $B$ is the computed gradient $\\nabla \\varphi^{c} (\\mathcal{X})$.\n",
    "<!-- $$ (\\nabla h)(\\gamma) = \\nabla \\varphi (\\mathcal{X}) $$ -->"
   ]
  },
  {
   "cell_type": "markdown",
   "metadata": {},
   "source": [
    "The ways to solve this equation:\n",
    "1. Treat the equation like a PDE and use **Numerical solvers for PDEs**: finite difference methods, finite element methods, spectral methods.\n",
    "2. **Matrix decomposition and Inverse methods**, which requires the matrix $(\\nabla h)$ to be invertible.\n",
    "3. **Iterative methods**: set the function to minimize $(\\nabla h) - B$ and perform fi **gradient descent**.\n",
    "4. **Regularization techniques**"
   ]
  },
  {
   "cell_type": "markdown",
   "metadata": {},
   "source": [
    "For quadratic cost the pushforward operation is simplified to:\n",
    "$$ T_{\\varphi} (x) = x - \\nabla \\varphi^{c} (x) $$\n",
    "$$ T_{\\psi} (y) = y - \\nabla \\psi^{c} (y) $$\n",
    "\n",
    "Since\n",
    "$$ h(y-x) = \\frac{1}{2} (y-x)^2 \\; \\implies \\; \\nabla h(y-x) = y-x\n",
    "\\; \\implies \\; (\\nabla h)(\\nabla \\varphi^{c} (x)) = \\nabla \\varphi^{c} (x)  $$"
   ]
  },
  {
   "cell_type": "code",
   "execution_count": 38,
   "metadata": {},
   "outputs": [],
   "source": [
    "def _map_T_quadratic_cost(phi: np.ndarray, X: np.ndarray, Y: np.ndarray, axis: int, C: np.ndarray) -> np.ndarray:\n",
    "    # Note: currently, this works only for quadratic cost with given matrix C\n",
    "    # this is due to unfinished ctransform function\n",
    "    # return X - np.gradient(\n",
    "    #     ctransform(phi, cost=C),\n",
    "    #     axis=axis)\n",
    "    return X - np.gradient(\n",
    "        ctransform(phi, cost=C))\n",
    "\n",
    "def map_T(phi: np.ndarray, cost: Union[np.ndarray, str], X: np.ndarray, Y: np.ndarray, axis: int, C: np.ndarray=None) -> np.ndarray:\n",
    "    \"\"\"Calculates the map T of a function phi given a cost type, using domains X and Y.\"\"\"\n",
    "    \n",
    "    # Handling string type cost function\n",
    "    if isinstance(cost, str):\n",
    "        if cost == 'quadratic':\n",
    "            return _map_T_quadratic_cost(phi, X, Y, axis, C)\n",
    "        else:\n",
    "            raise NotImplementedError(f\"Not implemented for cost type '{cost}'\")\n",
    "    \n",
    "    # Handling numpy array type cost function (currently not implemented)\n",
    "    elif isinstance(cost, np.ndarray):\n",
    "        raise NotImplementedError(\"Matrix cost types are not implemented\")\n",
    "    \n",
    "    # Handling invalid cost type\n",
    "    else:\n",
    "        raise TypeError(\"Cost must be either a string or a numpy array\")"
   ]
  },
  {
   "cell_type": "code",
   "execution_count": 39,
   "metadata": {},
   "outputs": [],
   "source": [
    "def pushforward(mu: np.ndarray, T: np.ndarray) -> np.ndarray:\n",
    "    \"\"\"\n",
    "    Transforms the measure mu using the multidimensional transport map T.\n",
    "    \n",
    "    :param mu: numpy array representing the original measure (discrete densities or probabilities)\n",
    "    :param T: numpy array where each row represents the new multidimensional position of each corresponding element in mu\n",
    "    :return: numpy array of the transformed measure\n",
    "    \"\"\"\n",
    "    nu = T.T @ mu\n",
    "    return nu"
   ]
  },
  {
   "cell_type": "code",
   "execution_count": 40,
   "metadata": {},
   "outputs": [
    {
     "name": "stdout",
     "output_type": "stream",
     "text": [
      "[[0.         0.         0.         0.         0.         0.\n",
      "  0.         0.         0.         0.        ]\n",
      " [0.11111111 0.11111111 0.11111111 0.11111111 0.11111111 0.11111111\n",
      "  0.11111111 0.11111111 0.11111111 0.11111111]\n",
      " [0.22222222 0.22222222 0.22222222 0.22222222 0.22222222 0.22222222\n",
      "  0.22222222 0.22222222 0.22222222 0.22222222]\n",
      " [0.33333333 0.33333333 0.33333333 0.33333333 0.33333333 0.33333333\n",
      "  0.33333333 0.33333333 0.33333333 0.33333333]\n",
      " [0.44444444 0.44444444 0.44444444 0.44444444 0.44444444 0.44444444\n",
      "  0.44444444 0.44444444 0.44444444 0.44444444]\n",
      " [0.55555556 0.55555556 0.55555556 0.55555556 0.55555556 0.55555556\n",
      "  0.55555556 0.55555556 0.55555556 0.55555556]\n",
      " [0.66666667 0.66666667 0.66666667 0.66666667 0.66666667 0.66666667\n",
      "  0.66666667 0.66666667 0.66666667 0.66666667]\n",
      " [0.77777778 0.77777778 0.77777778 0.77777778 0.77777778 0.77777778\n",
      "  0.77777778 0.77777778 0.77777778 0.77777778]\n",
      " [0.88888889 0.88888889 0.88888889 0.88888889 0.88888889 0.88888889\n",
      "  0.88888889 0.88888889 0.88888889 0.88888889]\n",
      " [1.         1.         1.         1.         1.         1.\n",
      "  1.         1.         1.         1.        ]]\n"
     ]
    },
    {
     "data": {
      "text/plain": [
       "<matplotlib.colorbar.Colorbar at 0x7f47f9447670>"
      ]
     },
     "execution_count": 40,
     "metadata": {},
     "output_type": "execute_result"
    },
    {
     "data": {
      "image/png": "[encoded data removed]",
      "text/plain": [
       "<Figure size 640x480 with 2 Axes>"
      ]
     },
     "metadata": {},
     "output_type": "display_data"
    }
   ],
   "source": [
    "def generate_gaussian_distribution(\n",
    "        num_points, mean, std, range_min, range_max\n",
    "):\n",
    "    grid = np.linspace(range_min, range_max, num_points)\n",
    "    pdf_values = 1/(std * np.sqrt(2 * np.pi)) * np.exp(\n",
    "        -1/2 * np.power((grid - mean)/std, 2))\n",
    "    pdf_values /= pdf_values.sum()\n",
    "    return grid, pdf_values\n",
    "\n",
    "n = 10\n",
    "std = 0.08\n",
    "range_min = 0\n",
    "range_max = 1\n",
    "\n",
    "x = np.linspace(range_min, range_max, n)\n",
    "y = np.linspace(range_min, range_max, n)\n",
    "X, Y = np.meshgrid(x, y, indexing='ij')\n",
    "\n",
    "grid1, pdf1 = generate_gaussian_distribution(n, 0.2, std, range_min, range_max)\n",
    "grid2, pdf2 = generate_gaussian_distribution(n, 0.6, std, range_min, range_max)\n",
    "\n",
    "c = np.power(X - Y, 2) / 2\n",
    "c_name = 'quadratic'\n",
    "\n",
    "phi = y ** 2\n",
    "phi = np.zeros_like(y)\n",
    "\n",
    "T = map_T(phi, c_name, X, Y, 1, c)\n",
    "\n",
    "print(T)\n",
    "\n",
    "p = plt.imshow(T)\n",
    "plt.colorbar(p)\n",
    "\n",
    "# pf = pushforward(pdf1, T)\n",
    "# print(f\"{pf.sum()=}\")\n",
    "# plt.scatter(x, pf)"
   ]
  },
  {
   "cell_type": "code",
   "execution_count": 41,
   "metadata": {},
   "outputs": [
    {
     "data": {
      "text/plain": [
       "<matplotlib.image.AxesImage at 0x7f47f94e53c0>"
      ]
     },
     "execution_count": 41,
     "metadata": {},
     "output_type": "execute_result"
    },
    {
     "data": {
      "image/png": "[encoded data removed]",
      "text/plain": [
       "<Figure size 640x480 with 1 Axes>"
      ]
     },
     "metadata": {},
     "output_type": "display_data"
    }
   ],
   "source": [
    "psi = x ** 5\n",
    "\n",
    "T = map_T(psi, c_name, Y, X, 1, c.T)\n",
    "\n",
    "plt.imshow(T)"
   ]
  },
  {
   "cell_type": "markdown",
   "metadata": {},
   "source": [
    "### Gradient and PDE\n",
    "\n",
    "Let's remind ourselfes the formula to get the gradient:\n",
    "$$ \\nabla_{\\dot{H}^1} J(\\varphi) = (-\\Delta)^{-1} (\\nu - T_{\\varphi \\#} \\mu) $$\n",
    "$$ \\nabla_{\\dot{H}^1} I(\\psi) = (-\\Delta)^{-1} (\\mu - T_{\\psi \\#} \\nu) $$\n",
    "\n",
    "Here $(\\Delta)^{-1}$ is the inverse Laplace operator which we get while solving this PDE:\n",
    "$$\n",
    "\\begin{cases}\n",
    "    - \\Delta \\varphi &= f \\\\\n",
    "    \\nabla \\varphi &= 0 \\quad \\text{ on } \\partial \\Omega \\quad \\text{ (Neumann Boundary Condition) }\n",
    "\\end{cases}\n",
    "$$\n",
    "\n",
    "So here the function $f$ is equal to either $\\nu - T_{\\varphi \\#} \\mu$ or $\\mu - T_{\\psi \\#} \\nu$."
   ]
  },
  {
   "cell_type": "code",
   "execution_count": 42,
   "metadata": {},
   "outputs": [],
   "source": [
    "# def gradient(nu, t_mu):\n",
    "#     f = nu - t_mu\n",
    "#     n, m = t_mu.shape\n",
    "#     phi = solve_pde(f, n ,m)\n",
    "#     return phi\n",
    "\n",
    "\n",
    "# def solve_pde(f: np.ndarray, n: int, m: int):\n",
    "#     # TODO: any faster way to solve pde?\n",
    "#     # for now we solve this poisson pde with cosine transform (FFT)\n",
    "#     x, y = np.meshgrid(\n",
    "#         np.linspace(0, np.pi, n, False),\n",
    "#         np.linspace(0, np.pi, m, False)\n",
    "#     )\n",
    "#     kernel = 2 * n**2 * (1 - np.cos(x)) + 2 * m**2 * (1 - np.cos(y))\n",
    "#     kernel[0, 0] = 1  # to avoid deviding by zero??\n",
    "\n",
    "#     wsp = dctn(f, norm='ortho')\n",
    "#     wsp /= kernel\n",
    "#     wsp[0, 0] = 0\n",
    "#     wsp = idctn(wsp, norm='ortho')\n",
    "\n",
    "#     return wsp"
   ]
  },
  {
   "cell_type": "code",
   "execution_count": 43,
   "metadata": {},
   "outputs": [],
   "source": [
    "def solve_pde(f, L, N):\n",
    "    \"\"\"\n",
    "    Solves the Poisson equation -∆phi = f with Neumann boundary conditions\n",
    "    using the Discrete Cosine Transform.\n",
    "\n",
    "    Parameters:\n",
    "    f : ndarray\n",
    "        The source term of the Poisson equation.\n",
    "    L : float\n",
    "        The length of the domain.\n",
    "    N : int\n",
    "        The number of discretization points.\n",
    "\n",
    "    Returns:\n",
    "    x : ndarray\n",
    "        The discretized domain.\n",
    "    phi : ndarray\n",
    "        The solution of the Poisson equation.\n",
    "    \"\"\"\n",
    "    # Compute the discrete cosine transform of f\n",
    "    f_hat = dct(f, norm='ortho')\n",
    "    # Create an array of wave numbers (avoid division by zero for k=0)\n",
    "    k = np.pi * np.arange(N) / L\n",
    "    k[0] = 1  # avoid division by zero; will set phi_hat[0] to zero later\n",
    "    # Compute the solution in the spectral domain\n",
    "    phi_hat = f_hat / (k**2)\n",
    "    # Set the zero-frequency component to zero\n",
    "    phi_hat[0] = 0\n",
    "    # Compute the inverse discrete cosine transform to get the spatial solution\n",
    "    phi = idct(phi_hat, norm='ortho')\n",
    "    return phi"
   ]
  },
  {
   "cell_type": "code",
   "execution_count": 45,
   "metadata": {},
   "outputs": [],
   "source": [
    "def gradient(nu: np.ndarray, t_mu: np.ndarray, x: np.ndarray):\n",
    "    f = nu - t_mu\n",
    "    L = x[-1]\n",
    "    phi = solve_pde(f, L, x.size)\n",
    "    return phi"
   ]
  },
  {
   "cell_type": "code",
   "execution_count": 46,
   "metadata": {},
   "outputs": [
    {
     "name": "stdout",
     "output_type": "stream",
     "text": [
      "rho.shape=(10,)\n",
      "pdf2.shape=(10,)\n"
     ]
    },
    {
     "data": {
      "text/plain": [
       "array([-0.01264975, -0.01116212, -0.00824415, -0.00402602,  0.00132245,\n",
       "        0.00655232,  0.00844308,  0.00746407,  0.00640407,  0.00589605])"
      ]
     },
     "execution_count": 46,
     "metadata": {},
     "output_type": "execute_result"
    }
   ],
   "source": [
    "def generate_gaussian_distribution(\n",
    "        num_points, mean, std, range_min, range_max\n",
    "):\n",
    "    grid = np.linspace(range_min, range_max, num_points)\n",
    "    pdf_values = 1/(std * np.sqrt(2 * np.pi)) * np.exp(\n",
    "        -1/2 * np.power((grid - mean)/std, 2))\n",
    "    pdf_values /= pdf_values.sum()\n",
    "    return grid, pdf_values\n",
    "\n",
    "n = 10\n",
    "std = 0.08\n",
    "range_min = 0\n",
    "range_max = 1\n",
    "\n",
    "x = np.linspace(range_min, range_max, n)\n",
    "y = np.linspace(range_min, range_max, n)\n",
    "X, Y = np.meshgrid(x, y, indexing='ij')\n",
    "\n",
    "grid1, pdf1 = generate_gaussian_distribution(n, 0.2, std, range_min, range_max)\n",
    "grid2, pdf2 = generate_gaussian_distribution(n, 0.6, std, range_min, range_max)\n",
    "\n",
    "c = np.power(X - Y, 2) / 2\n",
    "c_name = 'quadratic'\n",
    "\n",
    "phi = y.reshape((1, n)) ** 2\n",
    "\n",
    "rho = pushforward(\n",
    "    pdf1,\n",
    "    map_T(phi, c_name, X, Y, axis=0, C=c),\n",
    ")\n",
    "\n",
    "print(f\"{rho.shape=}\")\n",
    "print(f\"{pdf2.shape=}\")\n",
    "\n",
    "g = gradient(pdf2, rho, y)\n",
    "g"
   ]
  },
  {
   "cell_type": "code",
   "execution_count": 47,
   "metadata": {},
   "outputs": [
    {
     "name": "stdout",
     "output_type": "stream",
     "text": [
      "rho.shape=(10,)\n",
      "pdf1.shape=(10,)\n"
     ]
    },
    {
     "data": {
      "text/plain": [
       "array([ 0.06830246,  0.06294689,  0.05083875,  0.03165168,  0.00972784,\n",
       "       -0.01200351, -0.03206666, -0.04908691, -0.06171646, -0.06859408])"
      ]
     },
     "execution_count": 47,
     "metadata": {},
     "output_type": "execute_result"
    }
   ],
   "source": [
    "psi = x.reshape((n, 1)) ** 2\n",
    "\n",
    "rho = pushforward(\n",
    "    pdf2,\n",
    "    map_T(psi, c_name, Y, X, axis=1, C=c.T),\n",
    ")\n",
    "print(f\"{rho.shape=}\")\n",
    "print(f\"{pdf1.shape=}\")\n",
    "\n",
    "g = gradient(pdf1, rho, x)\n",
    "g"
   ]
  },
  {
   "cell_type": "code",
   "execution_count": 71,
   "metadata": {},
   "outputs": [],
   "source": [
    "def plot_potentials(phi, psi):\n",
    "    fig, axs = plt.subplots(1, 2, figsize=(10, 8))\n",
    "    im1 = axs[0].imshow(phi, aspect='auto')\n",
    "    axs[0].set_title('$\\phi$')\n",
    "    fig.colorbar(im1, ax=axs[0])\n",
    "    im2 = axs[1].imshow(psi, aspect='auto')\n",
    "    axs[1].set_title('$\\psi$')\n",
    "    fig.colorbar(im2, ax=axs[1])\n",
    "    plt.tight_layout()\n",
    "    plt.show()\n",
    "\n",
    "\n",
    "def back_and_forth(\n",
    "        x: np.ndarray,\n",
    "        y: np.ndarray,\n",
    "        mu: np.ndarray,\n",
    "        nu: np.ndarray,\n",
    "        cost: np.ndarray,\n",
    "        cost_name: str,\n",
    "        sigma: float = 0.01,\n",
    "        iterations: int = 20,\n",
    "        ):\n",
    "    phi = np.zeros_like(x)\n",
    "    psi = np.zeros_like(y)\n",
    "\n",
    "    X, Y = np.meshgrid(x, y, indexing='ij')\n",
    "\n",
    "    # why do we really need rho here?\n",
    "    rho = np.copy(mu)\n",
    "    print(f\"{rho.shape=}\")\n",
    "    \n",
    "    history = np.empty(nu[np.newaxis, :].shape)\n",
    "\n",
    "    for i in tqdm(range(iterations)):\n",
    "        # print(f\"iteration {i}\")\n",
    "        # what is rho1 and rho2 here?\n",
    "        # print(pushforward(phi, cost_name, X, Y, axis=1, C=cost))\n",
    "        phi_grad = gradient(\n",
    "            nu,\n",
    "            # Note: for now pushforward is only implemented for quadratic cost\n",
    "            # pushforward(phi, cost_name, X, Y, axis=1, C=cost),\n",
    "            rho,\n",
    "            x,\n",
    "            )\n",
    "        # print(f\"{phi.shape=}\")\n",
    "        # print(f\"{psi.shape=}\")\n",
    "        # print(f\"{phi_grad.shape=}\")\n",
    "        # print(phi_grad)\n",
    "        phi += sigma * phi_grad\n",
    "        psi = ctransform(phi, cost)\n",
    "\n",
    "        rho = pushforward(\n",
    "            mu,\n",
    "            map_T(phi, cost_name, X, Y, axis=1, C=cost),\n",
    "        )\n",
    "\n",
    "        psi_grad = gradient(\n",
    "            mu,\n",
    "            # Note: for now pushforward is only implemented for quadratic cost\n",
    "            # pushforward(psi, cost_name, Y, X, axis=0, C=cost.T),\n",
    "            rho,\n",
    "            y,\n",
    "            )\n",
    "        psi += sigma * psi_grad\n",
    "        phi = ctransform(psi, cost.T)\n",
    "\n",
    "        # rho = pushforward(psi, cost_name, Y, X, axis=0, C=cost.T)\n",
    "        rho = pushforward(\n",
    "            nu,\n",
    "            map_T(psi, cost_name, Y, X, axis=0, C=cost.T),\n",
    "        )\n",
    "\n",
    "        # history = np.append(history, rho)\n",
    "\n",
    "\n",
    "        # mt_phi = map_T(phi, cost_name, X, Y, axis=1, C=cost)\n",
    "        # mt_psi = map_T(psi, cost_name, Y, X, axis=0, C=cost.T)\n",
    "        # fig, axs = plt.subplots(1, 4)\n",
    "        # axs[0].scatter(x, mu)\n",
    "        # axs[1].scatter(y, rho)\n",
    "        # axs[2].imshow(mt_phi)\n",
    "        # axs[3].imshow(mt_psi)\n",
    "\n",
    "    return phi, psi, history"
   ]
  },
  {
   "cell_type": "markdown",
   "metadata": {},
   "source": [
    "# 1-D Examples"
   ]
  },
  {
   "cell_type": "code",
   "execution_count": 49,
   "metadata": {},
   "outputs": [],
   "source": [
    "def generate_gaussian_distribution(\n",
    "        num_points, mean, std, range_min, range_max\n",
    "):\n",
    "    grid = np.linspace(range_min, range_max, num_points)\n",
    "    pdf_values = 1/(std * np.sqrt(2 * np.pi)) * np.exp(\n",
    "        -1/2 * np.power((grid - mean)/std, 2))\n",
    "    pdf_values /= pdf_values.sum()\n",
    "    return grid, pdf_values"
   ]
  },
  {
   "cell_type": "code",
   "execution_count": 50,
   "metadata": {},
   "outputs": [
    {
     "data": {
      "text/plain": [
       "<matplotlib.collections.PathCollection at 0x7f47f93b2d10>"
      ]
     },
     "execution_count": 50,
     "metadata": {},
     "output_type": "execute_result"
    },
    {
     "data": {
      "image/png": "[encoded data removed]",
      "text/plain": [
       "<Figure size 1000x500 with 2 Axes>"
      ]
     },
     "metadata": {},
     "output_type": "display_data"
    }
   ],
   "source": [
    "n = 10\n",
    "# n = 100 + 1   # Number of points\n",
    "std = 0.08\n",
    "range_min = 0\n",
    "range_max = 1\n",
    "\n",
    "x = np.linspace(range_min, range_max, n)\n",
    "y = np.linspace(range_min, range_max, n)\n",
    "X, Y = np.meshgrid(x, y, indexing='ij')\n",
    "\n",
    "grid1, pdf1 = generate_gaussian_distribution(n, 0.2, std, range_min, range_max)\n",
    "grid2, pdf2 = generate_gaussian_distribution(n, 0.6, std, range_min, range_max)\n",
    "\n",
    "fig, axs = plt.subplots(1, 2, figsize=(10,5))\n",
    "axs[0].scatter(grid1, pdf1)\n",
    "axs[1].scatter(grid2, pdf2)\n",
    "# fig.show()"
   ]
  },
  {
   "cell_type": "code",
   "execution_count": 51,
   "metadata": {},
   "outputs": [
    {
     "data": {
      "text/plain": [
       "<matplotlib.image.AxesImage at 0x7f47f9217df0>"
      ]
     },
     "execution_count": 51,
     "metadata": {},
     "output_type": "execute_result"
    },
    {
     "data": {
      "image/png": "[encoded data removed]",
      "text/plain": [
       "<Figure size 1000x800 with 1 Axes>"
      ]
     },
     "metadata": {},
     "output_type": "display_data"
    }
   ],
   "source": [
    "c = np.power(X - Y, 2) / 2\n",
    "c_name = 'quadratic'\n",
    "\n",
    "\n",
    "fig, axs = plt.subplots(1, 1, figsize=(10,8))\n",
    "axs.imshow(c, cmap='coolwarm')"
   ]
  },
  {
   "cell_type": "code",
   "execution_count": 76,
   "metadata": {},
   "outputs": [
    {
     "name": "stdout",
     "output_type": "stream",
     "text": [
      "CPU times: user 5 µs, sys: 1 µs, total: 6 µs\n",
      "Wall time: 9.06 µs\n",
      "rho.shape=(10,)\n"
     ]
    },
    {
     "name": "stderr",
     "output_type": "stream",
     "text": [
      "  0%|          | 0/10000 [00:00<?, ?it/s]"
     ]
    },
    {
     "name": "stderr",
     "output_type": "stream",
     "text": [
      "100%|██████████| 10000/10000 [00:02<00:00, 4697.53it/s]\n"
     ]
    }
   ],
   "source": [
    "%time\n",
    "\n",
    "phi, psi, history = back_and_forth(x, y, pdf1, pdf2, c, c_name, sigma=0.01, iterations=10_000)"
   ]
  },
  {
   "cell_type": "code",
   "execution_count": 77,
   "metadata": {},
   "outputs": [
    {
     "data": {
      "text/plain": [
       "[<matplotlib.lines.Line2D at 0x7f47f6826470>]"
      ]
     },
     "execution_count": 77,
     "metadata": {},
     "output_type": "execute_result"
    },
    {
     "data": {
      "image/png": "[encoded data removed]",
      "text/plain": [
       "<Figure size 1000x500 with 2 Axes>"
      ]
     },
     "metadata": {},
     "output_type": "display_data"
    }
   ],
   "source": [
    "fig, axs = plt.subplots(1, 2, figsize=(10,5))\n",
    "axs[0].plot(phi)\n",
    "axs[1].plot(psi)"
   ]
  },
  {
   "cell_type": "code",
   "execution_count": 73,
   "metadata": {},
   "outputs": [
    {
     "data": {
      "text/plain": [
       "[<matplotlib.lines.Line2D at 0x7f47f67e5ea0>]"
      ]
     },
     "execution_count": 73,
     "metadata": {},
     "output_type": "execute_result"
    },
    {
     "data": {
      "image/png": "[encoded data removed]",
      "text/plain": [
       "<Figure size 1000x500 with 2 Axes>"
      ]
     },
     "metadata": {},
     "output_type": "display_data"
    }
   ],
   "source": [
    "fig, axs = plt.subplots(1, 2, figsize=(10,5))\n",
    "axs[0].plot(phi)\n",
    "axs[1].plot(psi)"
   ]
  },
  {
   "cell_type": "code",
   "execution_count": 74,
   "metadata": {},
   "outputs": [
    {
     "data": {
      "text/plain": [
       "<matplotlib.image.AxesImage at 0x7f47f6614bb0>"
      ]
     },
     "execution_count": 74,
     "metadata": {},
     "output_type": "execute_result"
    },
    {
     "data": {
      "image/png": "[encoded data removed]",
      "text/plain": [
       "<Figure size 1000x800 with 1 Axes>"
      ]
     },
     "metadata": {},
     "output_type": "display_data"
    }
   ],
   "source": [
    "T = map_T(psi, c_name, Y, X, axis=0, C=c.T)\n",
    "\n",
    "fig, axs = plt.subplots(1, 1, figsize=(10,8))\n",
    "axs.imshow(T)"
   ]
  },
  {
   "cell_type": "code",
   "execution_count": 75,
   "metadata": {},
   "outputs": [
    {
     "data": {
      "text/plain": [
       "array([[0.01850886, 0.13576518, 0.25919259, 0.38884235, 0.50616052,\n",
       "        0.60493827, 0.7037037 , 0.80246914, 0.90123457, 1.00617284],\n",
       "       [0.01850886, 0.13576518, 0.25919259, 0.38884235, 0.50616052,\n",
       "        0.60493827, 0.7037037 , 0.80246914, 0.90123457, 1.00617284],\n",
       "       [0.01850886, 0.13576518, 0.25919259, 0.38884235, 0.50616052,\n",
       "        0.60493827, 0.7037037 , 0.80246914, 0.90123457, 1.00617284],\n",
       "       [0.01850886, 0.13576518, 0.25919259, 0.38884235, 0.50616052,\n",
       "        0.60493827, 0.7037037 , 0.80246914, 0.90123457, 1.00617284],\n",
       "       [0.01850886, 0.13576518, 0.25919259, 0.38884235, 0.50616052,\n",
       "        0.60493827, 0.7037037 , 0.80246914, 0.90123457, 1.00617284],\n",
       "       [0.01850886, 0.13576518, 0.25919259, 0.38884235, 0.50616052,\n",
       "        0.60493827, 0.7037037 , 0.80246914, 0.90123457, 1.00617284],\n",
       "       [0.01850886, 0.13576518, 0.25919259, 0.38884235, 0.50616052,\n",
       "        0.60493827, 0.7037037 , 0.80246914, 0.90123457, 1.00617284],\n",
       "       [0.01850886, 0.13576518, 0.25919259, 0.38884235, 0.50616052,\n",
       "        0.60493827, 0.7037037 , 0.80246914, 0.90123457, 1.00617284],\n",
       "       [0.01850886, 0.13576518, 0.25919259, 0.38884235, 0.50616052,\n",
       "        0.60493827, 0.7037037 , 0.80246914, 0.90123457, 1.00617284],\n",
       "       [0.01850886, 0.13576518, 0.25919259, 0.38884235, 0.50616052,\n",
       "        0.60493827, 0.7037037 , 0.80246914, 0.90123457, 1.00617284]])"
      ]
     },
     "execution_count": 75,
     "metadata": {},
     "output_type": "execute_result"
    }
   ],
   "source": [
    "T"
   ]
  },
  {
   "cell_type": "markdown",
   "metadata": {},
   "source": [
    "# 2-D Examples"
   ]
  },
  {
   "cell_type": "code",
   "execution_count": null,
   "metadata": {},
   "outputs": [
    {
     "data": {
      "text/plain": [
       "Text(0.5, 1.0, 'Distribution $\\\\nu$')"
      ]
     },
     "execution_count": 20,
     "metadata": {},
     "output_type": "execute_result"
    },
    {
     "data": {
      "image/png": "[encoded data removed]",
      "text/plain": [
       "<Figure size 1000x400 with 2 Axes>"
      ]
     },
     "metadata": {},
     "output_type": "display_data"
    }
   ],
   "source": [
    "def generate_2d_gaussian(mean_x, mean_y, sigma_x, sigma_y, range_min, range_max, size=100):\n",
    "    x = np.linspace(range_min, range_max, size)\n",
    "    y = np.linspace(range_min, range_max, size)\n",
    "    x, y = np.meshgrid(x, y)\n",
    "    z = np.exp(-((x - mean_x)**2 / (2 * sigma_x**2) + (y - mean_y)**2 / (2 * sigma_y**2)))\n",
    "    \n",
    "    return x, y, z\n",
    "\n",
    "\n",
    "range_min = 0\n",
    "range_max = 1\n",
    "x1, y1, mu = generate_2d_gaussian(\n",
    "    mean_x = 0.2,\n",
    "    mean_y = 0.4,\n",
    "    sigma_x = 0.1,\n",
    "    sigma_y = 0.1,\n",
    "    range_min=range_min,\n",
    "    range_max=range_max,\n",
    "    size=100,\n",
    "    )\n",
    "x2, y2, nu = generate_2d_gaussian(\n",
    "    mean_x = 0.5,\n",
    "    mean_y = 0.8,\n",
    "    sigma_x = 0.1,\n",
    "    sigma_y = 0.1,\n",
    "    range_min=range_min,\n",
    "    range_max=range_max,\n",
    "    size=100,\n",
    "    )\n",
    "\n",
    "# Plot these distributions\n",
    "fig, axs = plt.subplots(1, 2, figsize=(10,4))\n",
    "axs[0].contourf(x1, y1, mu, cmap='inferno')\n",
    "axs[1].contourf(x2, y2, nu, cmap='inferno')\n",
    "axs[0].set_title('Distribution $\\mu$')\n",
    "axs[1].set_title('Distribution $\\\\nu$')"
   ]
  }
 ],
 "metadata": {
  "kernelspec": {
   "display_name": "python-ot-back-and-forth",
   "language": "python",
   "name": "python-ot-back-and-forth"
  },
  "language_info": {
   "codemirror_mode": {
    "name": "ipython",
    "version": 3
   },
   "file_extension": ".py",
   "mimetype": "text/x-python",
   "name": "python",
   "nbconvert_exporter": "python",
   "pygments_lexer": "ipython3",
   "version": "3.10.13"
  }
 },
 "nbformat": 4,
 "nbformat_minor": 2
}
